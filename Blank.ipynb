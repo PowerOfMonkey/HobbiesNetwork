{
  "nbformat": 4,
  "nbformat_minor": 0,
  "metadata": {
    "colab": {
      "name": "Blank",
      "provenance": [],
      "collapsed_sections": []
    },
    "kernelspec": {
      "name": "python3",
      "display_name": "Python 3"
    }
  },
  "cells": [
    {
      "cell_type": "code",
      "metadata": {
        "id": "PxxqRPwy6ct1"
      },
      "source": [
        "import pandas as pd\r\n",
        "import pytrends\r\n",
        "import numpy as np\r\n",
        "import datetime as dt"
      ],
      "execution_count": null,
      "outputs": []
    }
  ]
}